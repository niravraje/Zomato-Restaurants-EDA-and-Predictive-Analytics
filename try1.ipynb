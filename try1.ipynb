{
 "cells": [
  {
   "cell_type": "code",
   "execution_count": 125,
   "metadata": {
    "collapsed": true
   },
   "outputs": [],
   "source": [
    "import pandas as pd\n",
    "import numpy as np\n",
    "import matplotlib.pyplot as plt\n",
    "%matplotlib inline\n",
    "import seaborn as sns\n",
    "from pymongo import MongoClient\n"
   ]
  },
  {
   "cell_type": "code",
   "execution_count": 106,
   "metadata": {
    "collapsed": true
   },
   "outputs": [],
   "source": [
    "#df = pd.read_csv(\"zomato-restaurants-data/zomato.csv\", encoding='latin1')"
   ]
  },
  {
   "cell_type": "markdown",
   "metadata": {},
   "source": [
    "#### Functions for Mongo connection and retrieval of data in dataframe"
   ]
  },
  {
   "cell_type": "code",
   "execution_count": 107,
   "metadata": {
    "collapsed": true
   },
   "outputs": [],
   "source": [
    "def _connect_mongo(host, port, username, password, db):\n",
    "    \"\"\" A util for making a connection to mongo \"\"\"\n",
    "\n",
    "    if username and password:\n",
    "        mongo_uri = 'mongodb://%s:%s@%s:%s/%s' % (username, password, host, port, db)\n",
    "        conn = MongoClient(mongo_uri)\n",
    "    else:\n",
    "        conn = MongoClient(host, port)\n",
    "\n",
    "\n",
    "    return conn[db]\n",
    "\n",
    "\n",
    "def read_mongo(db, collection, query={}, host='localhost', port=27017, username=None, password=None, no_id=True):\n",
    "    \"\"\" Read from Mongo and Store into DataFrame \"\"\"\n",
    "\n",
    "    # Connect to MongoDB\n",
    "    db = _connect_mongo(host=host, port=port, username=username, password=password, db=db)\n",
    "\n",
    "    # Make a query to the specific DB and Collection\n",
    "    cursor = db[collection].find(query)\n",
    "\n",
    "    # Expand the cursor and construct the DataFrame\n",
    "    df =  pd.DataFrame(list(cursor))\n",
    "\n",
    "    # Delete the _id\n",
    "    if no_id:\n",
    "        del df['_id']\n",
    "\n",
    "    return df"
   ]
  },
  {
   "cell_type": "code",
   "execution_count": 108,
   "metadata": {
    "collapsed": true
   },
   "outputs": [],
   "source": [
    "df = read_mongo('restaurants', 'zomato_all')"
   ]
  },
  {
   "cell_type": "code",
   "execution_count": 109,
   "metadata": {
    "collapsed": true
   },
   "outputs": [
    {
     "data": {
      "text/html": [
       "<div>\n",
       "<style>\n",
       "    .dataframe thead tr:only-child th {\n",
       "        text-align: right;\n",
       "    }\n",
       "\n",
       "    .dataframe thead th {\n",
       "        text-align: left;\n",
       "    }\n",
       "\n",
       "    .dataframe tbody tr th {\n",
       "        vertical-align: top;\n",
       "    }\n",
       "</style>\n",
       "<table border=\"1\" class=\"dataframe\">\n",
       "  <thead>\n",
       "    <tr style=\"text-align: right;\">\n",
       "      <th></th>\n",
       "      <th>Address</th>\n",
       "      <th>Aggregate rating</th>\n",
       "      <th>Average Cost for two</th>\n",
       "      <th>City</th>\n",
       "      <th>Country Code</th>\n",
       "      <th>Cuisines</th>\n",
       "      <th>Currency</th>\n",
       "      <th>Has Online delivery</th>\n",
       "      <th>Has Table booking</th>\n",
       "      <th>Is delivering now</th>\n",
       "      <th>...</th>\n",
       "      <th>Locality</th>\n",
       "      <th>Locality Verbose</th>\n",
       "      <th>Longitude</th>\n",
       "      <th>Price range</th>\n",
       "      <th>Rating color</th>\n",
       "      <th>Rating text</th>\n",
       "      <th>Restaurant ID</th>\n",
       "      <th>Restaurant Name</th>\n",
       "      <th>Switch to order menu</th>\n",
       "      <th>Votes</th>\n",
       "    </tr>\n",
       "  </thead>\n",
       "  <tbody>\n",
       "    <tr>\n",
       "      <th>0</th>\n",
       "      <td>Third Floor, Mega Fashion Hall, SM Megamall, O...</td>\n",
       "      <td>4.9</td>\n",
       "      <td>1500</td>\n",
       "      <td>Mandaluyong City</td>\n",
       "      <td>162</td>\n",
       "      <td>Japanese, Sushi</td>\n",
       "      <td>Botswana Pula(P)</td>\n",
       "      <td>No</td>\n",
       "      <td>No</td>\n",
       "      <td>No</td>\n",
       "      <td>...</td>\n",
       "      <td>SM Megamall, Ortigas, Mandaluyong City</td>\n",
       "      <td>SM Megamall, Ortigas, Mandaluyong City, Mandal...</td>\n",
       "      <td>121.056475</td>\n",
       "      <td>4</td>\n",
       "      <td>Dark Green</td>\n",
       "      <td>Excellent</td>\n",
       "      <td>6318506</td>\n",
       "      <td>Ooma</td>\n",
       "      <td>No</td>\n",
       "      <td>365</td>\n",
       "    </tr>\n",
       "    <tr>\n",
       "      <th>1</th>\n",
       "      <td>Third Floor, Mega Atrium, SM Megamall, Ortigas...</td>\n",
       "      <td>4.8</td>\n",
       "      <td>1500</td>\n",
       "      <td>Mandaluyong City</td>\n",
       "      <td>162</td>\n",
       "      <td>Japanese, Korean</td>\n",
       "      <td>Botswana Pula(P)</td>\n",
       "      <td>No</td>\n",
       "      <td>Yes</td>\n",
       "      <td>No</td>\n",
       "      <td>...</td>\n",
       "      <td>SM Megamall, Ortigas, Mandaluyong City</td>\n",
       "      <td>SM Megamall, Ortigas, Mandaluyong City, Mandal...</td>\n",
       "      <td>121.057508</td>\n",
       "      <td>4</td>\n",
       "      <td>Dark Green</td>\n",
       "      <td>Excellent</td>\n",
       "      <td>6314302</td>\n",
       "      <td>Sambo Kojin</td>\n",
       "      <td>No</td>\n",
       "      <td>229</td>\n",
       "    </tr>\n",
       "    <tr>\n",
       "      <th>2</th>\n",
       "      <td>Third Floor, Century City Mall, Kalayaan Avenu...</td>\n",
       "      <td>4.8</td>\n",
       "      <td>1100</td>\n",
       "      <td>Makati City</td>\n",
       "      <td>162</td>\n",
       "      <td>French, Japanese, Desserts</td>\n",
       "      <td>Botswana Pula(P)</td>\n",
       "      <td>No</td>\n",
       "      <td>Yes</td>\n",
       "      <td>No</td>\n",
       "      <td>...</td>\n",
       "      <td>Century City Mall, Poblacion, Makati City</td>\n",
       "      <td>Century City Mall, Poblacion, Makati City, Mak...</td>\n",
       "      <td>121.027535</td>\n",
       "      <td>3</td>\n",
       "      <td>Dark Green</td>\n",
       "      <td>Excellent</td>\n",
       "      <td>6317637</td>\n",
       "      <td>Le Petit Souffle</td>\n",
       "      <td>No</td>\n",
       "      <td>314</td>\n",
       "    </tr>\n",
       "  </tbody>\n",
       "</table>\n",
       "<p>3 rows × 21 columns</p>\n",
       "</div>"
      ],
      "text/plain": [
       "                                             Address  Aggregate rating  \\\n",
       "0  Third Floor, Mega Fashion Hall, SM Megamall, O...               4.9   \n",
       "1  Third Floor, Mega Atrium, SM Megamall, Ortigas...               4.8   \n",
       "2  Third Floor, Century City Mall, Kalayaan Avenu...               4.8   \n",
       "\n",
       "   Average Cost for two              City  Country Code  \\\n",
       "0                  1500  Mandaluyong City           162   \n",
       "1                  1500  Mandaluyong City           162   \n",
       "2                  1100       Makati City           162   \n",
       "\n",
       "                     Cuisines          Currency Has Online delivery  \\\n",
       "0             Japanese, Sushi  Botswana Pula(P)                  No   \n",
       "1            Japanese, Korean  Botswana Pula(P)                  No   \n",
       "2  French, Japanese, Desserts  Botswana Pula(P)                  No   \n",
       "\n",
       "  Has Table booking Is delivering now  ...   \\\n",
       "0                No                No  ...    \n",
       "1               Yes                No  ...    \n",
       "2               Yes                No  ...    \n",
       "\n",
       "                                    Locality  \\\n",
       "0     SM Megamall, Ortigas, Mandaluyong City   \n",
       "1     SM Megamall, Ortigas, Mandaluyong City   \n",
       "2  Century City Mall, Poblacion, Makati City   \n",
       "\n",
       "                                    Locality Verbose   Longitude  Price range  \\\n",
       "0  SM Megamall, Ortigas, Mandaluyong City, Mandal...  121.056475            4   \n",
       "1  SM Megamall, Ortigas, Mandaluyong City, Mandal...  121.057508            4   \n",
       "2  Century City Mall, Poblacion, Makati City, Mak...  121.027535            3   \n",
       "\n",
       "   Rating color Rating text Restaurant ID   Restaurant Name  \\\n",
       "0    Dark Green   Excellent       6318506              Ooma   \n",
       "1    Dark Green   Excellent       6314302       Sambo Kojin   \n",
       "2    Dark Green   Excellent       6317637  Le Petit Souffle   \n",
       "\n",
       "  Switch to order menu Votes  \n",
       "0                   No   365  \n",
       "1                   No   229  \n",
       "2                   No   314  \n",
       "\n",
       "[3 rows x 21 columns]"
      ]
     },
     "execution_count": 109,
     "metadata": {},
     "output_type": "execute_result"
    }
   ],
   "source": [
    "df.head(3)"
   ]
  },
  {
   "cell_type": "code",
   "execution_count": 110,
   "metadata": {
    "collapsed": true
   },
   "outputs": [
    {
     "data": {
      "text/html": [
       "<div>\n",
       "<style>\n",
       "    .dataframe thead tr:only-child th {\n",
       "        text-align: right;\n",
       "    }\n",
       "\n",
       "    .dataframe thead th {\n",
       "        text-align: left;\n",
       "    }\n",
       "\n",
       "    .dataframe tbody tr th {\n",
       "        vertical-align: top;\n",
       "    }\n",
       "</style>\n",
       "<table border=\"1\" class=\"dataframe\">\n",
       "  <thead>\n",
       "    <tr style=\"text-align: right;\">\n",
       "      <th></th>\n",
       "      <th>Aggregate rating</th>\n",
       "      <th>Average Cost for two</th>\n",
       "      <th>Country Code</th>\n",
       "      <th>Latitude</th>\n",
       "      <th>Longitude</th>\n",
       "      <th>Price range</th>\n",
       "      <th>Restaurant ID</th>\n",
       "      <th>Votes</th>\n",
       "    </tr>\n",
       "  </thead>\n",
       "  <tbody>\n",
       "    <tr>\n",
       "      <th>count</th>\n",
       "      <td>9551.000000</td>\n",
       "      <td>9551.000000</td>\n",
       "      <td>9551.000000</td>\n",
       "      <td>9551.000000</td>\n",
       "      <td>9551.000000</td>\n",
       "      <td>9551.000000</td>\n",
       "      <td>9.551000e+03</td>\n",
       "      <td>9551.000000</td>\n",
       "    </tr>\n",
       "    <tr>\n",
       "      <th>mean</th>\n",
       "      <td>2.666370</td>\n",
       "      <td>1199.210763</td>\n",
       "      <td>18.365616</td>\n",
       "      <td>25.854381</td>\n",
       "      <td>64.126574</td>\n",
       "      <td>1.804837</td>\n",
       "      <td>9.051128e+06</td>\n",
       "      <td>156.909748</td>\n",
       "    </tr>\n",
       "    <tr>\n",
       "      <th>std</th>\n",
       "      <td>1.516378</td>\n",
       "      <td>16121.183073</td>\n",
       "      <td>56.750546</td>\n",
       "      <td>11.007935</td>\n",
       "      <td>41.467058</td>\n",
       "      <td>0.905609</td>\n",
       "      <td>8.791521e+06</td>\n",
       "      <td>430.169145</td>\n",
       "    </tr>\n",
       "    <tr>\n",
       "      <th>min</th>\n",
       "      <td>0.000000</td>\n",
       "      <td>0.000000</td>\n",
       "      <td>1.000000</td>\n",
       "      <td>-41.330428</td>\n",
       "      <td>-157.948486</td>\n",
       "      <td>1.000000</td>\n",
       "      <td>5.300000e+01</td>\n",
       "      <td>0.000000</td>\n",
       "    </tr>\n",
       "    <tr>\n",
       "      <th>25%</th>\n",
       "      <td>2.500000</td>\n",
       "      <td>250.000000</td>\n",
       "      <td>1.000000</td>\n",
       "      <td>28.478713</td>\n",
       "      <td>77.081343</td>\n",
       "      <td>1.000000</td>\n",
       "      <td>3.019625e+05</td>\n",
       "      <td>5.000000</td>\n",
       "    </tr>\n",
       "    <tr>\n",
       "      <th>50%</th>\n",
       "      <td>3.200000</td>\n",
       "      <td>400.000000</td>\n",
       "      <td>1.000000</td>\n",
       "      <td>28.570469</td>\n",
       "      <td>77.191964</td>\n",
       "      <td>2.000000</td>\n",
       "      <td>6.004089e+06</td>\n",
       "      <td>31.000000</td>\n",
       "    </tr>\n",
       "    <tr>\n",
       "      <th>75%</th>\n",
       "      <td>3.700000</td>\n",
       "      <td>700.000000</td>\n",
       "      <td>1.000000</td>\n",
       "      <td>28.642758</td>\n",
       "      <td>77.282006</td>\n",
       "      <td>2.000000</td>\n",
       "      <td>1.835229e+07</td>\n",
       "      <td>131.000000</td>\n",
       "    </tr>\n",
       "    <tr>\n",
       "      <th>max</th>\n",
       "      <td>4.900000</td>\n",
       "      <td>800000.000000</td>\n",
       "      <td>216.000000</td>\n",
       "      <td>55.976980</td>\n",
       "      <td>174.832089</td>\n",
       "      <td>4.000000</td>\n",
       "      <td>1.850065e+07</td>\n",
       "      <td>10934.000000</td>\n",
       "    </tr>\n",
       "  </tbody>\n",
       "</table>\n",
       "</div>"
      ],
      "text/plain": [
       "       Aggregate rating  Average Cost for two  Country Code     Latitude  \\\n",
       "count       9551.000000           9551.000000   9551.000000  9551.000000   \n",
       "mean           2.666370           1199.210763     18.365616    25.854381   \n",
       "std            1.516378          16121.183073     56.750546    11.007935   \n",
       "min            0.000000              0.000000      1.000000   -41.330428   \n",
       "25%            2.500000            250.000000      1.000000    28.478713   \n",
       "50%            3.200000            400.000000      1.000000    28.570469   \n",
       "75%            3.700000            700.000000      1.000000    28.642758   \n",
       "max            4.900000         800000.000000    216.000000    55.976980   \n",
       "\n",
       "         Longitude  Price range  Restaurant ID         Votes  \n",
       "count  9551.000000  9551.000000   9.551000e+03   9551.000000  \n",
       "mean     64.126574     1.804837   9.051128e+06    156.909748  \n",
       "std      41.467058     0.905609   8.791521e+06    430.169145  \n",
       "min    -157.948486     1.000000   5.300000e+01      0.000000  \n",
       "25%      77.081343     1.000000   3.019625e+05      5.000000  \n",
       "50%      77.191964     2.000000   6.004089e+06     31.000000  \n",
       "75%      77.282006     2.000000   1.835229e+07    131.000000  \n",
       "max     174.832089     4.000000   1.850065e+07  10934.000000  "
      ]
     },
     "execution_count": 110,
     "metadata": {},
     "output_type": "execute_result"
    }
   ],
   "source": [
    "df.describe()"
   ]
  },
  {
   "cell_type": "code",
   "execution_count": 111,
   "metadata": {
    "collapsed": true
   },
   "outputs": [
    {
     "data": {
      "text/plain": [
       "North Indian                                                              936\n",
       "North Indian, Chinese                                                     511\n",
       "Fast Food                                                                 354\n",
       "Chinese                                                                   354\n",
       "North Indian, Mughlai                                                     334\n",
       "Cafe                                                                      299\n",
       "Bakery                                                                    218\n",
       "North Indian, Mughlai, Chinese                                            197\n",
       "Bakery, Desserts                                                          170\n",
       "Street Food                                                               149\n",
       "Pizza, Fast Food                                                          131\n",
       "Chinese, Fast Food                                                        118\n",
       "Mithai, Street Food                                                       116\n",
       "South Indian                                                              112\n",
       "Bakery, Fast Food                                                         108\n",
       "Chinese, North Indian                                                     105\n",
       "Mughlai                                                                   103\n",
       "Ice Cream, Desserts                                                        83\n",
       "Ice Cream                                                                  74\n",
       "North Indian, Fast Food                                                    74\n",
       "Mithai                                                                     71\n",
       "North Indian, Chinese, Mughlai                                             70\n",
       "North Indian, Chinese, Fast Food                                           68\n",
       "North Indian, Chinese, Continental                                         65\n",
       "Bakery, Desserts, Fast Food                                                63\n",
       "American, Fast Food, Salad, Healthy Food                                   62\n",
       "Mughlai, North Indian                                                      60\n",
       "Fast Food, Burger                                                          56\n",
       "Beverages                                                                  54\n",
       "Italian                                                                    54\n",
       "                                                                         ... \n",
       "Cafe, Italian, Continental, Desserts                                        1\n",
       "Turkish, Arabian, Moroccan, Lebanese                                        1\n",
       "North Indian, European, Mediterranean, Asian                                1\n",
       "Cafe, Tapas, South African, Beverages, Healthy Food, Desserts, Spanish      1\n",
       "Italian, Continental, Chinese                                               1\n",
       "Hyderabadi, Awadhi                                                          1\n",
       "Nepalese, Tibetan                                                           1\n",
       "Italian, Mexican, Mediterranean                                             1\n",
       "Asian, Chinese, North Indian                                                1\n",
       "Cafe, French                                                                1\n",
       "Awadhi, North Indian, Mughlai                                               1\n",
       "North Indian, Chinese, Fast Food, Desserts                                  1\n",
       "North Indian, Italian, Continental, Chinese                                 1\n",
       "Finger Food, Italian                                                        1\n",
       "American, Asian, Italian, Seafood                                           1\n",
       "Italian, North Indian, Chinese                                              1\n",
       "Continental, Chinese, Japanese, North Indian, Thai                          1\n",
       "Asian, Chinese, Thai, Malaysian, Indonesian, Burmese                        1\n",
       "Breakfast, Diner, Sandwich                                                  1\n",
       "American, Greek                                                             1\n",
       "Cafe, Fast Food, Italian, Mexican                                           1\n",
       "Italian, Pizza, Lebanese                                                    1\n",
       "Burger, Sandwich, Seafood                                                   1\n",
       "Cafe, Fast Food, Chinese                                                    1\n",
       "North Indian, Fast Food, Chinese, Japanese, Asian, Italian                  1\n",
       "American, Sandwich, Salad                                                   1\n",
       "Beverages, Bar Food, Fast Food                                              1\n",
       "Fast Food, American, Burger                                                 1\n",
       "Breakfast, Coffee and Tea, Modern Australian                                1\n",
       "North Indian, Chinese, Tibetan, Italian, Fast Food                          1\n",
       "Name: Cuisines, Length: 1826, dtype: int64"
      ]
     },
     "execution_count": 111,
     "metadata": {},
     "output_type": "execute_result"
    }
   ],
   "source": [
    "df['Cuisines'].value_counts()"
   ]
  },
  {
   "cell_type": "code",
   "execution_count": 112,
   "metadata": {
    "collapsed": true
   },
   "outputs": [
    {
     "data": {
      "text/plain": [
       "<matplotlib.axes._subplots.AxesSubplot at 0x7f04c4610eb8>"
      ]
     },
     "execution_count": 112,
     "metadata": {},
     "output_type": "execute_result"
    },
    {
     "data": {
      "image/png": "[encoded data removed]",
      "text/plain": [
       "<matplotlib.figure.Figure at 0x7f04c46dc4e0>"
      ]
     },
     "metadata": {},
     "output_type": "display_data"
    }
   ],
   "source": [
    "df['Price range'].hist(bins=10)"
   ]
  },
  {
   "cell_type": "code",
   "execution_count": 113,
   "metadata": {
    "collapsed": true
   },
   "outputs": [
    {
     "data": {
      "text/plain": [
       "<matplotlib.axes._subplots.AxesSubplot at 0x7f04c2c31400>"
      ]
     },
     "execution_count": 113,
     "metadata": {},
     "output_type": "execute_result"
    },
    {
     "data": {
      "image/png": "[encoded data removed]",
      "text/plain": [
       "<matplotlib.figure.Figure at 0x7f04c4d76860>"
      ]
     },
     "metadata": {},
     "output_type": "display_data"
    }
   ],
   "source": [
    "df.boxplot(column='Price range')"
   ]
  },
  {
   "cell_type": "code",
   "execution_count": 114,
   "metadata": {
    "collapsed": true
   },
   "outputs": [
    {
     "name": "stderr",
     "output_type": "stream",
     "text": [
      "/home/nirav/anaconda3/lib/python3.6/site-packages/numpy/core/fromnumeric.py:57: FutureWarning: reshape is deprecated and will raise in a subsequent release. Please use .values.reshape(...) instead\n",
      "  return getattr(obj, method)(*args, **kwds)\n"
     ]
    },
    {
     "data": {
      "text/plain": [
       "<matplotlib.axes._subplots.AxesSubplot at 0x7f04c2b6e748>"
      ]
     },
     "execution_count": 114,
     "metadata": {},
     "output_type": "execute_result"
    },
    {
     "data": {
      "image/png": "[encoded data removed]",
      "text/plain": [
       "<matplotlib.figure.Figure at 0x7f04c2aea390>"
      ]
     },
     "metadata": {},
     "output_type": "display_data"
    }
   ],
   "source": [
    "df.boxplot(column='Price range', by='Has Online delivery')"
   ]
  },
  {
   "cell_type": "code",
   "execution_count": 115,
   "metadata": {
    "collapsed": true
   },
   "outputs": [
    {
     "data": {
      "text/plain": [
       "<matplotlib.axes._subplots.AxesSubplot at 0x7f04c2aae2b0>"
      ]
     },
     "execution_count": 115,
     "metadata": {},
     "output_type": "execute_result"
    },
    {
     "data": {
      "image/png": "[encoded data removed]",
      "text/plain": [
       "<matplotlib.figure.Figure at 0x7f04c2c85240>"
      ]
     },
     "metadata": {},
     "output_type": "display_data"
    }
   ],
   "source": [
    "df['Aggregate rating'].hist(bins=20)"
   ]
  },
  {
   "cell_type": "markdown",
   "metadata": {},
   "source": [
    "### Using Seaborn"
   ]
  },
  {
   "cell_type": "code",
   "execution_count": 116,
   "metadata": {},
   "outputs": [
    {
     "data": {
      "text/plain": [
       "<matplotlib.axes._subplots.AxesSubplot at 0x7f04c2919128>"
      ]
     },
     "execution_count": 116,
     "metadata": {},
     "output_type": "execute_result"
    },
    {
     "data": {
      "image/png": "[encoded data removed]",
      "text/plain": [
       "<matplotlib.figure.Figure at 0x7f04c29622b0>"
      ]
     },
     "metadata": {},
     "output_type": "display_data"
    }
   ],
   "source": [
    "sns.countplot(df['Aggregate rating'])"
   ]
  },
  {
   "cell_type": "code",
   "execution_count": 117,
   "metadata": {},
   "outputs": [
    {
     "data": {
      "text/plain": [
       "<matplotlib.axes._subplots.AxesSubplot at 0x7f04c282ecc0>"
      ]
     },
     "execution_count": 117,
     "metadata": {},
     "output_type": "execute_result"
    },
    {
     "data": {
      "image/png": "[encoded data removed]",
      "text/plain": [
       "<matplotlib.figure.Figure at 0x7f04c279f9b0>"
      ]
     },
     "metadata": {},
     "output_type": "display_data"
    }
   ],
   "source": [
    "sns.countplot(df['Price range'])"
   ]
  },
  {
   "cell_type": "markdown",
   "metadata": {},
   "source": [
    "### Note:\n",
    "It is observed below that majority of the data is based on Indian cities. \n",
    "\n",
    "Here, New Delhi is dominating with 5473 restaurants listed.\n",
    "\n",
    "Gurgaon and Noida are the next 2 notable cities with around 1000 restaurants listed."
   ]
  },
  {
   "cell_type": "code",
   "execution_count": 118,
   "metadata": {
    "collapsed": true
   },
   "outputs": [
    {
     "data": {
      "text/plain": [
       "New Delhi                 5473\n",
       "Gurgaon                   1118\n",
       "Noida                     1080\n",
       "Faridabad                  251\n",
       "Ghaziabad                   25\n",
       "Lucknow                     21\n",
       "Bhubaneshwar                21\n",
       "Ahmedabad                   21\n",
       "Guwahati                    21\n",
       "Amritsar                    21\n",
       "Rio de Janeiro              20\n",
       "Allahabad                   20\n",
       "Sioux City                  20\n",
       "Surat                       20\n",
       "Davenport                   20\n",
       "Birmingham                  20\n",
       "Rest of Hawaii              20\n",
       "Athens                      20\n",
       "Pretoria                    20\n",
       "Kanpur                      20\n",
       "Cape Town                   20\n",
       "Des Moines                  20\n",
       "Dehradun                    20\n",
       "Dubai                       20\n",
       "Augusta                     20\n",
       "Chennai                     20\n",
       "Valdosta                    20\n",
       "Cedar Rapids/Iowa City      20\n",
       "Savannah                    20\n",
       "Vadodara                    20\n",
       "                          ... \n",
       "Dicky Beach                  1\n",
       "Lincoln                      1\n",
       "Vineland Station             1\n",
       "Panchkula                    1\n",
       "Victor Harbor                1\n",
       "Lakes Entrance               1\n",
       "Armidale                     1\n",
       "Fernley                      1\n",
       "Lakeview                     1\n",
       "Ojo Caliente                 1\n",
       "Mc Millan                    1\n",
       "Mohali                       1\n",
       "Lorn                         1\n",
       "East Ballina                 1\n",
       "Forrest                      1\n",
       "Balingup                     1\n",
       "Miller                       1\n",
       "Mayfield                     1\n",
       "Montville                    1\n",
       "Cochrane                     1\n",
       "Tagaytay City                1\n",
       "Yorkton                      1\n",
       "Tanunda                      1\n",
       "Chatham-Kent                 1\n",
       "Paynesville                  1\n",
       "Huskisson                    1\n",
       "Macedon                      1\n",
       "Princeton                    1\n",
       "Monroe                       1\n",
       "Phillip Island               1\n",
       "Name: City, Length: 141, dtype: int64"
      ]
     },
     "execution_count": 118,
     "metadata": {},
     "output_type": "execute_result"
    }
   ],
   "source": [
    "df['City'].value_counts()"
   ]
  },
  {
   "cell_type": "code",
   "execution_count": 119,
   "metadata": {},
   "outputs": [
    {
     "data": {
      "text/plain": [
       "array([162,  30, 216,  14,  37, 184, 214,   1,  94, 148, 215, 166, 189,\n",
       "       191, 208])"
      ]
     },
     "execution_count": 119,
     "metadata": {},
     "output_type": "execute_result"
    }
   ],
   "source": [
    "df['Country Code'].unique()"
   ]
  },
  {
   "cell_type": "code",
   "execution_count": 120,
   "metadata": {
    "collapsed": true
   },
   "outputs": [
    {
     "data": {
      "text/html": [
       "<div>\n",
       "<style>\n",
       "    .dataframe thead tr:only-child th {\n",
       "        text-align: right;\n",
       "    }\n",
       "\n",
       "    .dataframe thead th {\n",
       "        text-align: left;\n",
       "    }\n",
       "\n",
       "    .dataframe tbody tr th {\n",
       "        vertical-align: top;\n",
       "    }\n",
       "</style>\n",
       "<table border=\"1\" class=\"dataframe\">\n",
       "  <thead>\n",
       "    <tr style=\"text-align: right;\">\n",
       "      <th></th>\n",
       "      <th>Address</th>\n",
       "      <th>Aggregate rating</th>\n",
       "      <th>Average Cost for two</th>\n",
       "      <th>City</th>\n",
       "      <th>Country Code</th>\n",
       "      <th>Cuisines</th>\n",
       "      <th>Currency</th>\n",
       "      <th>Has Online delivery</th>\n",
       "      <th>Has Table booking</th>\n",
       "      <th>Is delivering now</th>\n",
       "      <th>...</th>\n",
       "      <th>Locality</th>\n",
       "      <th>Locality Verbose</th>\n",
       "      <th>Longitude</th>\n",
       "      <th>Price range</th>\n",
       "      <th>Rating color</th>\n",
       "      <th>Rating text</th>\n",
       "      <th>Restaurant ID</th>\n",
       "      <th>Restaurant Name</th>\n",
       "      <th>Switch to order menu</th>\n",
       "      <th>Votes</th>\n",
       "    </tr>\n",
       "  </thead>\n",
       "  <tbody>\n",
       "    <tr>\n",
       "      <th>7979</th>\n",
       "      <td>Level 2,��Food Capital, Worldmark 1, Aerocity,...</td>\n",
       "      <td>3.2</td>\n",
       "      <td>600</td>\n",
       "      <td>New Delhi</td>\n",
       "      <td>1</td>\n",
       "      <td>Street Food, North Indian</td>\n",
       "      <td>Indian Rupees(Rs.)</td>\n",
       "      <td>No</td>\n",
       "      <td>No</td>\n",
       "      <td>No</td>\n",
       "      <td>...</td>\n",
       "      <td>Worldmark 1, Aerocity</td>\n",
       "      <td>Worldmark 1, Aerocity, New Delhi</td>\n",
       "      <td>77.121795</td>\n",
       "      <td>2</td>\n",
       "      <td>Orange</td>\n",
       "      <td>Average</td>\n",
       "      <td>18337772</td>\n",
       "      <td>Street Foods by Punjab Grill</td>\n",
       "      <td>No</td>\n",
       "      <td>17</td>\n",
       "    </tr>\n",
       "    <tr>\n",
       "      <th>8290</th>\n",
       "      <td>Shop 3, I 25, Near Metro Hospital, Sector 12, ...</td>\n",
       "      <td>0.0</td>\n",
       "      <td>200</td>\n",
       "      <td>Noida</td>\n",
       "      <td>1</td>\n",
       "      <td>Ice Cream</td>\n",
       "      <td>Indian Rupees(Rs.)</td>\n",
       "      <td>No</td>\n",
       "      <td>No</td>\n",
       "      <td>No</td>\n",
       "      <td>...</td>\n",
       "      <td>Sector 12</td>\n",
       "      <td>Sector 12, Noida</td>\n",
       "      <td>77.337744</td>\n",
       "      <td>1</td>\n",
       "      <td>White</td>\n",
       "      <td>Not rated</td>\n",
       "      <td>18382337</td>\n",
       "      <td>Cream Bell Scoopers</td>\n",
       "      <td>No</td>\n",
       "      <td>2</td>\n",
       "    </tr>\n",
       "  </tbody>\n",
       "</table>\n",
       "<p>2 rows × 21 columns</p>\n",
       "</div>"
      ],
      "text/plain": [
       "                                                Address  Aggregate rating  \\\n",
       "7979  Level 2,��Food Capital, Worldmark 1, Aerocity,...               3.2   \n",
       "8290  Shop 3, I 25, Near Metro Hospital, Sector 12, ...               0.0   \n",
       "\n",
       "      Average Cost for two       City  Country Code  \\\n",
       "7979                   600  New Delhi             1   \n",
       "8290                   200      Noida             1   \n",
       "\n",
       "                       Cuisines            Currency Has Online delivery  \\\n",
       "7979  Street Food, North Indian  Indian Rupees(Rs.)                  No   \n",
       "8290                  Ice Cream  Indian Rupees(Rs.)                  No   \n",
       "\n",
       "     Has Table booking Is delivering now  ...                Locality  \\\n",
       "7979                No                No  ...   Worldmark 1, Aerocity   \n",
       "8290                No                No  ...               Sector 12   \n",
       "\n",
       "                      Locality Verbose  Longitude  Price range  Rating color  \\\n",
       "7979  Worldmark 1, Aerocity, New Delhi  77.121795            2        Orange   \n",
       "8290                  Sector 12, Noida  77.337744            1         White   \n",
       "\n",
       "     Rating text Restaurant ID               Restaurant Name  \\\n",
       "7979     Average      18337772  Street Foods by Punjab Grill   \n",
       "8290   Not rated      18382337           Cream Bell Scoopers   \n",
       "\n",
       "     Switch to order menu Votes  \n",
       "7979                   No    17  \n",
       "8290                   No     2  \n",
       "\n",
       "[2 rows x 21 columns]"
      ]
     },
     "execution_count": 120,
     "metadata": {},
     "output_type": "execute_result"
    }
   ],
   "source": [
    "df.sample(2)"
   ]
  },
  {
   "cell_type": "code",
   "execution_count": 121,
   "metadata": {
    "collapsed": true
   },
   "outputs": [
    {
     "data": {
      "text/html": [
       "<div>\n",
       "<style>\n",
       "    .dataframe thead tr:only-child th {\n",
       "        text-align: right;\n",
       "    }\n",
       "\n",
       "    .dataframe thead th {\n",
       "        text-align: left;\n",
       "    }\n",
       "\n",
       "    .dataframe tbody tr th {\n",
       "        vertical-align: top;\n",
       "    }\n",
       "</style>\n",
       "<table border=\"1\" class=\"dataframe\">\n",
       "  <thead>\n",
       "    <tr style=\"text-align: right;\">\n",
       "      <th></th>\n",
       "      <th>6412</th>\n",
       "      <th>5451</th>\n",
       "    </tr>\n",
       "  </thead>\n",
       "  <tbody>\n",
       "    <tr>\n",
       "      <th>Address</th>\n",
       "      <td>37, Central Market, Punjabi Bagh West, Punjabi...</td>\n",
       "      <td>F-14/17, Model Town 2, New Delhi</td>\n",
       "    </tr>\n",
       "    <tr>\n",
       "      <th>Aggregate rating</th>\n",
       "      <td>2.5</td>\n",
       "      <td>2.9</td>\n",
       "    </tr>\n",
       "    <tr>\n",
       "      <th>Average Cost for two</th>\n",
       "      <td>1200</td>\n",
       "      <td>400</td>\n",
       "    </tr>\n",
       "    <tr>\n",
       "      <th>City</th>\n",
       "      <td>New Delhi</td>\n",
       "      <td>New Delhi</td>\n",
       "    </tr>\n",
       "    <tr>\n",
       "      <th>Country Code</th>\n",
       "      <td>1</td>\n",
       "      <td>1</td>\n",
       "    </tr>\n",
       "    <tr>\n",
       "      <th>Cuisines</th>\n",
       "      <td>North Indian, Mughlai, Chinese</td>\n",
       "      <td>Ice Cream, Desserts</td>\n",
       "    </tr>\n",
       "    <tr>\n",
       "      <th>Currency</th>\n",
       "      <td>Indian Rupees(Rs.)</td>\n",
       "      <td>Indian Rupees(Rs.)</td>\n",
       "    </tr>\n",
       "    <tr>\n",
       "      <th>Has Online delivery</th>\n",
       "      <td>Yes</td>\n",
       "      <td>Yes</td>\n",
       "    </tr>\n",
       "    <tr>\n",
       "      <th>Has Table booking</th>\n",
       "      <td>Yes</td>\n",
       "      <td>No</td>\n",
       "    </tr>\n",
       "    <tr>\n",
       "      <th>Is delivering now</th>\n",
       "      <td>No</td>\n",
       "      <td>No</td>\n",
       "    </tr>\n",
       "    <tr>\n",
       "      <th>Latitude</th>\n",
       "      <td>28.671</td>\n",
       "      <td>28.7058</td>\n",
       "    </tr>\n",
       "    <tr>\n",
       "      <th>Locality</th>\n",
       "      <td>Punjabi Bagh</td>\n",
       "      <td>Model Town 2</td>\n",
       "    </tr>\n",
       "    <tr>\n",
       "      <th>Locality Verbose</th>\n",
       "      <td>Punjabi Bagh, New Delhi</td>\n",
       "      <td>Model Town 2, New Delhi</td>\n",
       "    </tr>\n",
       "    <tr>\n",
       "      <th>Longitude</th>\n",
       "      <td>77.1342</td>\n",
       "      <td>77.1905</td>\n",
       "    </tr>\n",
       "    <tr>\n",
       "      <th>Price range</th>\n",
       "      <td>3</td>\n",
       "      <td>1</td>\n",
       "    </tr>\n",
       "    <tr>\n",
       "      <th>Rating color</th>\n",
       "      <td>Orange</td>\n",
       "      <td>Orange</td>\n",
       "    </tr>\n",
       "    <tr>\n",
       "      <th>Rating text</th>\n",
       "      <td>Average</td>\n",
       "      <td>Average</td>\n",
       "    </tr>\n",
       "    <tr>\n",
       "      <th>Restaurant ID</th>\n",
       "      <td>476</td>\n",
       "      <td>307554</td>\n",
       "    </tr>\n",
       "    <tr>\n",
       "      <th>Restaurant Name</th>\n",
       "      <td>Moti Mahal Delux</td>\n",
       "      <td>Giani</td>\n",
       "    </tr>\n",
       "    <tr>\n",
       "      <th>Switch to order menu</th>\n",
       "      <td>No</td>\n",
       "      <td>No</td>\n",
       "    </tr>\n",
       "    <tr>\n",
       "      <th>Votes</th>\n",
       "      <td>70</td>\n",
       "      <td>39</td>\n",
       "    </tr>\n",
       "  </tbody>\n",
       "</table>\n",
       "</div>"
      ],
      "text/plain": [
       "                                                                   6412  \\\n",
       "Address               37, Central Market, Punjabi Bagh West, Punjabi...   \n",
       "Aggregate rating                                                    2.5   \n",
       "Average Cost for two                                               1200   \n",
       "City                                                          New Delhi   \n",
       "Country Code                                                          1   \n",
       "Cuisines                                 North Indian, Mughlai, Chinese   \n",
       "Currency                                             Indian Rupees(Rs.)   \n",
       "Has Online delivery                                                 Yes   \n",
       "Has Table booking                                                   Yes   \n",
       "Is delivering now                                                    No   \n",
       "Latitude                                                         28.671   \n",
       "Locality                                                   Punjabi Bagh   \n",
       "Locality Verbose                                Punjabi Bagh, New Delhi   \n",
       "Longitude                                                       77.1342   \n",
       "Price range                                                           3   \n",
       "Rating color                                                     Orange   \n",
       "Rating text                                                     Average   \n",
       "Restaurant ID                                                       476   \n",
       "Restaurant Name                                        Moti Mahal Delux   \n",
       "Switch to order menu                                                 No   \n",
       "Votes                                                                70   \n",
       "\n",
       "                                                  5451  \n",
       "Address               F-14/17, Model Town 2, New Delhi  \n",
       "Aggregate rating                                   2.9  \n",
       "Average Cost for two                               400  \n",
       "City                                         New Delhi  \n",
       "Country Code                                         1  \n",
       "Cuisines                           Ice Cream, Desserts  \n",
       "Currency                            Indian Rupees(Rs.)  \n",
       "Has Online delivery                                Yes  \n",
       "Has Table booking                                   No  \n",
       "Is delivering now                                   No  \n",
       "Latitude                                       28.7058  \n",
       "Locality                                  Model Town 2  \n",
       "Locality Verbose               Model Town 2, New Delhi  \n",
       "Longitude                                      77.1905  \n",
       "Price range                                          1  \n",
       "Rating color                                    Orange  \n",
       "Rating text                                    Average  \n",
       "Restaurant ID                                   307554  \n",
       "Restaurant Name                                  Giani  \n",
       "Switch to order menu                                No  \n",
       "Votes                                               39  "
      ]
     },
     "execution_count": 121,
     "metadata": {},
     "output_type": "execute_result"
    }
   ],
   "source": [
    "df.sample(2).T"
   ]
  },
  {
   "cell_type": "markdown",
   "metadata": {},
   "source": [
    "### Barplot - Currency Frequency"
   ]
  },
  {
   "cell_type": "code",
   "execution_count": 126,
   "metadata": {
    "scrolled": false
   },
   "outputs": [
    {
     "data": {
      "image/png": "[encoded data removed]",
      "text/plain": [
       "<matplotlib.figure.Figure at 0x7f04c2726e48>"
      ]
     },
     "metadata": {},
     "output_type": "display_data"
    }
   ],
   "source": [
    "f, ax = plt.subplots(1,1,figsize = (12,4))\n",
    "cnt = df['Currency'].value_counts().reset_index()\n",
    "sns.set(style=\"whitegrid\")\n",
    "sns.barplot(y = 'index', x = 'Currency', data =cnt, color = 'b', ax = ax)\n",
    "sns.despine(left=True, bottom=True)\n",
    "plt.show()"
   ]
  },
  {
   "cell_type": "code",
   "execution_count": null,
   "metadata": {
    "collapsed": true
   },
   "outputs": [],
   "source": []
  }
 ],
 "metadata": {
  "kernelspec": {
   "display_name": "Python 3",
   "language": "python",
   "name": "python3"
  },
  "language_info": {
   "codemirror_mode": {
    "name": "ipython",
    "version": 3
   },
   "file_extension": ".py",
   "mimetype": "text/x-python",
   "name": "python",
   "nbconvert_exporter": "python",
   "pygments_lexer": "ipython3",
   "version": "3.6.3"
  }
 },
 "nbformat": 4,
 "nbformat_minor": 2
}
